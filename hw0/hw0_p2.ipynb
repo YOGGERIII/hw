{
 "cells": [
  {
   "cell_type": "code",
   "execution_count": 1,
   "source": [
    "def one():\r\n",
    "    moviesin2016 = []\r\n",
    "    with open('IMDB-Movie-Data.csv') as f:\r\n",
    "        line = f.readline()\r\n",
    "        line = f.readline()\r\n",
    "        while line:\r\n",
    "            line = line.split(',')\r\n",
    "            if line[5] == '2016':\r\n",
    "                moviesin2016.append((line[7], line[1]))\r\n",
    "            line = f.readline()\r\n",
    "    moviesin2016.sort(reverse=True)\r\n",
    "    print('(1)')\r\n",
    "    print(moviesin2016[:3])\r\n",
    "one()"
   ],
   "outputs": [
    {
     "output_type": "stream",
     "name": "stdout",
     "text": [
      "(1)\n",
      "[('8.8', 'Dangal'), ('8.6', 'Kimi no na wa'), ('8.4', 'Koe no katachi')]\n",
      "\n"
     ]
    }
   ],
   "metadata": {}
  },
  {
   "cell_type": "code",
   "execution_count": 36,
   "source": [
    "def two():\r\n",
    "    revenue = {}\r\n",
    "    with open('IMDB-Movie-Data.csv') as f:\r\n",
    "        line = f.readline()\r\n",
    "        line = f.readline()\r\n",
    "        while line:\r\n",
    "            line = line.split(',')\r\n",
    "            line[4] = [i.strip() for i in line[4].split('|')]\r\n",
    "            for i in line[4]:\r\n",
    "                if i in revenue:\r\n",
    "                    revenue[i][0] += float(line[9]) if line[9] else 0\r\n",
    "                    revenue[i][1] += 1\r\n",
    "                else:\r\n",
    "                    revenue[i] = [float(line[9]) if line[9] else 0, 1]\r\n",
    "            line = f.readline()\r\n",
    "    revenue = list(revenue.items())\r\n",
    "    revenue.sort(key=lambda x: x[1][0] / x[1][1], reverse=True)\r\n",
    "    m = revenue[0][1][0] / revenue[0][1][1]\r\n",
    "    print('(2)')\r\n",
    "    for i in revenue:\r\n",
    "        if i[1][0] / i[1][1] >= m:\r\n",
    "            print(i[0])\r\n",
    "        else:\r\n",
    "            break\r\n",
    "two()"
   ],
   "outputs": [
    {
     "output_type": "stream",
     "name": "stdout",
     "text": [
      "(2)\n",
      "Daisy Ridley\n",
      "John Boyega\n"
     ]
    }
   ],
   "metadata": {}
  },
  {
   "cell_type": "code",
   "execution_count": 14,
   "source": [
    "def three():\r\n",
    "    rating = []\r\n",
    "    with open('IMDB-Movie-Data.csv') as f:\r\n",
    "        line = f.readline()\r\n",
    "        line = f.readline()\r\n",
    "        while line:\r\n",
    "            line = line.split(',')\r\n",
    "            line[4] = [i.strip() for i in line[4].split('|')]\r\n",
    "            for i in line[4]:\r\n",
    "                if i == 'Emma Watson':\r\n",
    "                    rating.append(float(line[7]))\r\n",
    "            line = f.readline()\r\n",
    "    print('(3)')\r\n",
    "    print(sum(rating) / len(rating))\r\n",
    "three()"
   ],
   "outputs": [
    {
     "output_type": "stream",
     "name": "stdout",
     "text": [
      "(3)\n",
      "7.175\n"
     ]
    }
   ],
   "metadata": {}
  },
  {
   "cell_type": "code",
   "execution_count": 2,
   "source": [
    "def four():\r\n",
    "    director = {}\r\n",
    "    with open('IMDB-Movie-Data.csv') as f:\r\n",
    "        line = f.readline()\r\n",
    "        line = f.readline()\r\n",
    "        while line:\r\n",
    "            line = line.split(',')\r\n",
    "            line[4] = [i.strip() for i in line[4].split('|')]\r\n",
    "            for i in line[4]:\r\n",
    "                if line[3] in director:\r\n",
    "                    if i not in director[line[3]]:\r\n",
    "                        director[line[3]].append(i)\r\n",
    "                else:\r\n",
    "                    director[line[3]] = line[4]\r\n",
    "            line = f.readline()\r\n",
    "    director = list(director.items())\r\n",
    "    director.sort(key=lambda x: len(x[1]), reverse=True)      \r\n",
    "    print('(4)')\r\n",
    "    temp = len(director[2][1])\r\n",
    "    for i in director:\r\n",
    "        if len(i[1]) >= temp:\r\n",
    "            print(i[0], len(i[1]))\r\n",
    "        else:\r\n",
    "            break\r\n",
    "four()         "
   ],
   "outputs": [
    {
     "output_type": "stream",
     "name": "stdout",
     "text": [
      "(4)\n",
      "Ridley Scott 28\n",
      "M. Night Shyamalan 24\n",
      "Danny Boyle 20\n",
      "Paul W.S. Anderson 20\n"
     ]
    }
   ],
   "metadata": {}
  },
  {
   "cell_type": "code",
   "execution_count": 15,
   "source": [
    "def five():\r\n",
    "    genres = {}\r\n",
    "    with open('IMDB-Movie-Data.csv') as f:\r\n",
    "        line = f.readline()\r\n",
    "        line = f.readline()\r\n",
    "        while line:\r\n",
    "            line = line.split(',')\r\n",
    "            line[2] = [i.strip() for i in line[2].split('|')]\r\n",
    "            line[4] = [i.strip() for i in line[4].split('|')]\r\n",
    "            for i in line[4]:\r\n",
    "                for j in line[2]:\r\n",
    "                    if i in genres: \r\n",
    "                        genres[i].add(j)\r\n",
    "                    else:\r\n",
    "                        genres[i] = set([j])\r\n",
    "            line = f.readline() \r\n",
    "    genres = list(genres.items())\r\n",
    "    genres.sort(key=lambda x: len(x[1]), reverse=True)\r\n",
    "    n = len(genres[1][1])\r\n",
    "    print('(5)')\r\n",
    "    for i in genres:\r\n",
    "        if len(i[1]) >= n:\r\n",
    "            print(i[0], len(i[1]))\r\n",
    "        else:\r\n",
    "            break\r\n",
    "five()"
   ],
   "outputs": [
    {
     "output_type": "stream",
     "name": "stdout",
     "text": [
      "(5)\n",
      "Brad Pitt 14\n",
      "Hugh Jackman 13\n",
      "Scarlett Johansson 13\n",
      "Amy Adams 13\n",
      "Chloe Grace Moretz 13\n",
      "Johnny Depp 13\n"
     ]
    }
   ],
   "metadata": {
    "scrolled": true
   }
  },
  {
   "cell_type": "code",
   "execution_count": 20,
   "source": [
    "def six():\r\n",
    "    gap = {}\r\n",
    "    with open('IMDB-Movie-Data.csv') as f:\r\n",
    "        line = f.readline()\r\n",
    "        line = f.readline()\r\n",
    "        while line:\r\n",
    "            line = line.split(',')\r\n",
    "            line[4] = [i.strip() for i in line[4].split('|')]\r\n",
    "            line[5] = int(line[5])\r\n",
    "            for i in line[4]:\r\n",
    "                if i in gap:\r\n",
    "                    if line[5] < gap[i][0]:\r\n",
    "                        gap[i][0] = line[5]\r\n",
    "                    elif line[5] > gap[i][1]:\r\n",
    "                        gap[i][1] = line[5]\r\n",
    "                else:\r\n",
    "                    gap[i] = [line[5], line[5]]\r\n",
    "            line = f.readline()\r\n",
    "    gap = list(gap.items())\r\n",
    "    gap.sort(key=lambda x: x[1][1] - x[1][0], reverse=True)\r\n",
    "    print('(6)')\r\n",
    "    temp = gap[2][1][1] - gap[2][1][0]\r\n",
    "    for i in gap:\r\n",
    "        g = i[1][1] - i[1][0]\r\n",
    "        if g >= temp:\r\n",
    "            print(i[0], g)\r\n",
    "six()"
   ],
   "outputs": [
    {
     "output_type": "stream",
     "name": "stdout",
     "text": [
      "(6)\n",
      "Christian Bale 10\n",
      "Anne Hathaway 10\n",
      "Hugh Jackman 10\n",
      "Scarlett Johansson 10\n",
      "Matt Damon 10\n",
      "Mark Wahlberg 10\n",
      "Brad Pitt 10\n",
      "Christopher Plummer 10\n",
      "Tom Hanks 10\n",
      "Bryce Dallas Howard 10\n",
      "Chiwetel Ejiofor 10\n",
      "Ben Kingsley 10\n",
      "Gerard Butler 10\n",
      "Eva Green 10\n",
      "Judi Dench 10\n",
      "Will Smith 10\n",
      "Jennifer Connelly 10\n",
      "Tom Cruise 10\n",
      "Emily Blunt 10\n",
      "Kevin Spacey 10\n",
      "Samuel L. Jackson 10\n",
      "Steve Carell 10\n",
      "Edward Norton 10\n",
      "Will Ferrell 10\n",
      "Denzel Washington 10\n",
      "Russell Crowe 10\n",
      "Toni Collette 10\n",
      "Meryl Streep 10\n",
      "Morgan Freeman 10\n",
      "Dominic West 10\n",
      "Owen Wilson 10\n",
      "Michelle Monaghan 10\n",
      "Jessica Biel 10\n",
      "Dustin Hoffman 10\n",
      "Ben Whishaw 10\n",
      "Paula Patton 10\n",
      "Abbie Cornish 10\n",
      "Johnny Depp 10\n",
      "Jack Davenport 10\n",
      "Rachel Weisz 10\n",
      "Ellen Burstyn 10\n",
      "Kang-ho Song 10\n",
      "Jeremy Irons 10\n",
      "Marion Cotillard 10\n",
      "Kirsten Dunst 10\n",
      "Jennifer Aniston 10\n",
      "Justin Theroux 10\n",
      "Maya Rudolph 10\n",
      "Kate Bosworth 10\n",
      "Audrey Tautou 10\n",
      "Luke Wilson 10\n",
      "Sacha Baron Cohen 10\n",
      "Bob Balaban 10\n"
     ]
    }
   ],
   "metadata": {}
  },
  {
   "cell_type": "code",
   "execution_count": 24,
   "source": [
    "def seven():\n",
    "    s = set(['Johnny Depp'])\n",
    "    old_len = -1\n",
    "    new_len = 0\n",
    "    while new_len > old_len:\n",
    "        old_len = new_len\n",
    "        with open('IMDB-Movie-Data.csv') as f:\n",
    "            line = f.readline()\n",
    "            line = f.readline()\n",
    "            while line:\n",
    "                line = line.split(',')\n",
    "                line[4] = [i.strip() for i in line[4].split('|')]\n",
    "                for i in line[4]:\n",
    "                    if i in s:\n",
    "                        s = s.union(line[4])\n",
    "                line = f.readline()\n",
    "        new_len = len(s)\n",
    "    print('(7)')\n",
    "    print(len(s))\n",
    "    print(s)\n",
    "seven()"
   ],
   "outputs": [
    {
     "output_type": "stream",
     "name": "stdout",
     "text": [
      "(7)\n",
      "1575\n",
      "{'Tom Hughes', 'Matthew Marsden', 'Michelle Rodriguez', 'Mila Kunis', 'Daniel Day-Lewis', 'Chris Rock', 'Jasmine Trinca', 'Analeigh Tipton', 'Scott Speedman', 'Gabriel Basso', 'Bruce Willis', 'Jesse Plemons', 'Helena Bonham Carter', 'Jennifer Connelly', 'Sanjeev Bhaskar', 'Adrian Martinez', 'Austin Abrams', 'Jemaine Clement', 'Nick Krause', 'Colm Meaney', 'Mark Chao', 'Sigourney Weaver', 'Alison Pill', 'Francesc Albiol', 'Andre Braugher', 'Tyler Perry', 'Denis Leary', 'Andy Powers', 'Janelle Monae', 'Jacki Weaver', 'Carmen Ejogo', 'Alison Brie', 'Alex Fisher', 'Linda Cardellini', 'Elena Anaya', 'Jamie Foxx', 'Ned Beatty', 'Sebastian Stan', 'Rose Byrne', 'Carmen Electra', 'Kagiso Kuypers', 'Dominique McElligott', 'Rory J. Saper', 'Megan Charpentier', 'Kiefer Sutherland', 'Donnie Yen', 'Bel Powley', 'Joseph Mawle', 'Salim Kechiouche', 'Mason Lee', 'Jason Sudeikis', 'Jamie Bell', 'Keri Russell', 'Bella Heathcote', \"Lupita Nyong'o\", 'Jessica Chastain', 'Jeffrey Wright', 'Jon Favreau', 'Zoe Bell', 'Kyra Sedgwick', 'Ian McKellen', 'Leslie Mann', 'Brendan Gleeson', 'George Clooney', 'Jack Black', 'Rufus Sewell', 'David Harbour', 'Emilia Clarke', 'Jason Momoa', 'Aaron Burns', 'Alexandra Daddario', 'Lorraine Toussaint', 'Cillian Murphy', 'Gina Carano', 'Anthony Mackie', 'Katee Sackhoff', 'Clifton Collins Jr.', 'Cori Gonzalez-Macuer', 'Paula Beer', 'Ben Barnes', 'Ben Whishaw', 'Jeremy Irons', 'Imelda Staunton', 'Alexandra Maria Lara', 'Usher Raymond', 'George Lopez', 'Wendy Crewson', 'Jeremy Davies', 'Kaya Scodelario', 'Jack Huston', 'Alistair Abell', 'Geoffrey Rush', 'Zach Galifianakis', 'Paul Anderson', 'Callum Keith Rennie', 'McCaul Lombardi', 'Nikolaj Coster-Waldau', 'Eve', 'Charlize Theron', 'Kirby Bliss Blanton', 'Amber Heard', 'Jessica Brown Findlay', 'Lily Cole', 'Chris Wedge', 'Karel Hermanek Jr.', 'Werner Herzog', 'Aryana Engineer', 'Joel Courtney', 'Kenny Wormald', 'Amy Ryan', 'Hugo Weaving', 'Anthony Anderson', 'Olga Kurylenko', 'Kevin Spacey', 'Kevin Costner', 'Winona Ryder', 'Shannon Woodward', 'Isabelle Nelisse', 'Florence Kastriner', 'January Jones', 'Antonia Ribero', 'Aomi Muyock', 'Zachery Ty Bryan', 'Natalie Martinez', 'Casey Affleck', 'Woody Allen', 'Gael Garcia Bernal', 'Tim Allen', 'Eddie Marsan', 'Val Kilmer', 'Kate Dickie', 'Louis C.K.', 'Amr Waked', 'Tabu', 'Ang Phula Sherpa', 'Art Parkinson', 'Rose Leslie', 'Danny DeVito', 'Eddie Baroo', 'Anya Taylor-Joy', 'Jonny Brugh', 'Nathalie Boltt', 'Marley Shelton', 'Stellan Skarsgard', 'Claire Danes', 'Hilary Swank', 'Will Yun Lee', 'Leland Orser', 'David Acord', 'Amanda Bynes', 'Mark Strong', 'Isla Fisher', 'Robert Duvall', 'Taylor Schilling', 'Kevin McKidd', 'Tony Revolori', 'Peyton List', 'Chris Messina', 'Edgar Ramirez', 'Jena Malone', 'Ty Simpkins', 'Dale Dickey', 'Nazanin Boniadi', 'Colm Feore', 'Randy Couture', 'Emma Fitzpatrick', 'Nina Dobrev', 'Noah Taylor', 'Adam Driver', 'Kara Hayward', 'Jenna Dewan Tatum', 'Jared Harris', 'Burt Young', 'Angela Bassett', 'Jake Gyllenhaal', 'Mark Wahlberg', 'Jonathan Rhys Meyers', 'Christian Stolte', 'Billy Burke', 'Aidan Turner', 'Robin Williams', 'Olivia Munn', 'Stephen Lang', 'Ella Anderson', 'C.H. Evans', 'Ray Romano', 'Vincent Kartheiser', 'Cate Blanchett', 'Robert Redford', 'Logan Lerman', 'Tyne Daly', 'Lara Pulver', 'Paul Dano', 'Jennifer Lawrence', 'Alessandro Nivola', 'Frank Madigan', 'Anna Hutchison', 'Kristen Bell', 'Barry Pepper', 'Joe Anderson', 'Elisabeth Moss', 'Aldis Hodge', 'Jeff Daniels', 'Isabel Lucas', 'James Franco', 'Vincent Cassel', 'Freddy Rodriguez', 'Scott Adsit', 'Sarah Clarke', 'Nikki Blonsky', 'James Hamrick', 'Benjamin Bratt', 'Ellar Coltrane', 'Paula Patton', 'Jessica Lucas', 'Eddie Murphy', 'Sean Penn', 'Danielle Nicolet', 'Lesley Manville', 'Haley Joel Osment', 'Nick Swardson', 'Michael Cera', 'Rachel Korine', 'Anders Holm', 'Christian Bale', 'Michael C. Hall', 'Bill Paxton', 'Michael McElhatton', 'Joel Edgerton', 'Sam Neill', 'Sean Bean', 'Julian Richings', 'Aaron Paul', \"Sofia Black-D'Elia\", 'Riley Thomas Stewart', 'Tom Holland', 'Gretchen Mol', 'Sandra Bullock', 'Neel Sethi', 'Meryl Streep', 'Jessie Ok Gray', 'Olivia Wilde', 'Harold Perrineau', 'Ryan Reynolds', 'Rob Corddry', 'Stephen Rea', 'T.R. Knight', 'Jo Hartley', 'John Doman', 'Faith Wladyka', 'James DuMont', 'Neil Patrick Harris', 'Matt Bomer', 'Annalise Basso', 'Marcia Gay Harden', 'Gugu Mbatha-Raw', 'Andy Garcia', 'Robert Pattinson', 'Salli Richardson-Whitfield', 'Ruben Blades', 'Charlie Heaton', 'Anna Camp', 'Anders Danielsen Lie', 'Chadwick Boseman', 'Jean-Claude Van Damme', 'Sally Hawkins', 'Rachel Bilson', 'Maya Rudolph', 'Julie Walters', 'Iain Glen', 'Amber Tamblyn', 'Steve Coogan', 'J. Todd Smith', 'Will Smith', 'Mark Rylance', 'Deborah Kara Unger', 'Sam Riley', 'Nick Offerman', 'Eric Godon', 'Haley Bennett', \"Zac Mattoon O'Brien\", 'Luke Kleintank', 'Rila Fukushima', 'Rachel Weisz', 'Dean Norris', 'Ezra Miller', 'Suraj Sharma', 'Isaiah Stone', 'Dakota Goyo', 'Michelle Monaghan', 'Olivia Thirlby', 'Harley Quinn Smith', 'Douglas M. Griffin', 'Jason Barry', 'Mel Gibson', 'Margot Robbie', 'Ewan McGregor', 'Brady Corbet', 'Gaby Hoffmann', 'Wenwen Han', 'Ashlyn Sanchez', 'Kelly Reilly', 'Ruth Negga', 'John Boyega', 'Derek Jacobi', 'Stanley Tucci', 'Aaron Eckhart', 'Rosie Huntington-Whiteley', 'Bill Hader', 'Zooey Deschanel', 'Sam Worthington', 'Steve Zahn', 'Patricia Arquette', 'Trey Songz', 'Ansel Elgort', 'Liv Tyler', 'Rhys Ifans', 'Andrea Riseborough', 'Michael Caine', 'Jane Levy', 'Adam Pally', 'Malin Akerman', 'Radha Mitchell', 'Drew Barrymore', 'Paula Prentiss', 'Martin Kabanza', 'Justin Timberlake', 'Tijuana Ricks', 'Maria Bello', 'Hans Matheson', 'Rebel Wilson', 'Sacha Baron Cohen', 'Christopher Mintz-Plasse', 'Nicholas Hope', 'Michael Sheen', 'Freddie Crowder', 'Rhona Mitra', 'Josh Duhamel', 'Tye Sheridan', 'Michael Yare', 'Evangeline Lilly', 'Devon Bostick', 'Harrison Ford', 'Robert Knepper', 'Julianna Margulies', 'Oaklee Pendergast', 'Lisa Thoreson', 'Alexis Dziena', 'Queen Latifah', 'Brian Caspe', 'Ryoko Seta', 'Bob Balaban', 'Dakota Johnson', 'Michelle Williams', 'Maria Doyle Kennedy', 'Riccardo Scamarcio', 'Charlie Day', 'Topher Grace', 'T.J. Miller', 'Tom Hiddleston', 'Hayley McElhinney', 'Nicholas Hoult', 'Thomas Lennon', 'Karen Disher', 'Dan Stevens', 'Garrett M. Brown', 'Alan Arkin', 'Kimberly Elise', 'Jay Baruchel', 'Adrien Brody', 'Amara Miller', \"Vincent D'Onofrio\", 'Kelly Adams', 'Charlotte Le Bon', 'Ashton Kutcher', 'Ed Harris', 'Ed Oxenbould', 'Gemma Ward', 'Natasha Henstridge', 'Peter Dinklage', 'Benjamin Walker', 'Heath Ledger', 'Paddy Considine', 'Tony Goldwyn', 'Gerard Butler', 'Tony Amendola', 'Blythe Danner', 'Robert Downey Jr.', 'Clint Dyer', \"Auli'i Cravalho\", 'Rose McGowan', 'Jennifer Koenig', 'Rosemarie DeWitt', 'Cary Elwes', 'Jackie Chan', 'Taissa Farmiga', 'Sue Dahlman', 'Taylor Kitsch', 'Marlon Wayans', 'Simon Helberg', 'Bruce Boxleitner', 'Paul Newman', 'Antonio Tarver', 'Zachary Levi', 'Golshifteh Farahani', 'Josh Hutcherson', 'Stacy Martin', 'Anne Hathaway', 'Brandon Routh', 'Dominic Cooper', 'Rinko Kikuchi', 'Garance Marillier', 'Hugh Laurie', 'Kati Outinen', 'Mariah Carey', 'Victoria Justice', 'Alex R. Hibbert', 'Barkhad Abdi', 'Katherine Waterston', 'Anil Kapoor', 'Nicolas Cage', 'Steve Tom', 'Julian Dennison', 'Hayden Panettiere', 'Jamie Blackley', 'Kyle Gallner', 'Aidan Gillen', 'Craig Van Hook', 'Jennifer Jason Leigh', 'Danny Trejo', 'Kristen Wiig', 'Michael Nyqvist', 'Rachel Blanchard', 'Madina Nalwanga', 'Britt Robertson', 'Karen Moskow', 'Pierre Coffin', 'Sean Faris', 'Margarita Levieva', 'Robert Carlyle', 'Penelope Cruz', 'Colin Quinn', 'Abigail Breslin', 'Deanna Dunagan', 'Matthew Goode', 'Tommy Lee Jones', 'Peter Stormare', 'Max Irons', 'Lynsey Taylor Mackay', 'Jonny Weston', 'Robert Patrick', 'John Goodman', 'Glenn Close', 'Lulu Wilson', 'Wendi McLendon-Covey', 'Samantha Sloyan', 'Ice Cube', 'Mandy Gonzalez', 'Florence Clery', 'Annie Rose Buckley', 'Michael Parks', 'Lily James', 'Cary-Hiroyuki Tagawa', 'Ben Stiller', 'Jenna Elfman', 'Josh Brener', 'Yu-mi Jung', 'Miranda Cosgrove', 'Annabeth Gish', 'Shad Moss', 'Michael Fassbender', 'Ni Ni', 'Quvenzhane Wallis', 'Reese Witherspoon', 'Lili Sepe', 'Mireille Enos', 'Kenneth Branagh', 'Danny McBride', 'Jae Head', 'Calum Worthy', 'Israel Broussard', 'Ray Winstone', 'Alden Ehrenreich', 'Tom Cruise', 'Camille Cottin', 'Alicia Vikander', 'Jennifer Lopez', 'Anton Yelchin', 'Mary Steenburgen', 'Helen Mirren', 'Liam Neeson', 'Emily Ratajkowski', 'Adam Levine', 'Ruth Wilson', 'Michael Kenneth Williams', 'Laura Allen', '?lafur Darri ?lafsson', 'Christina Applegate', 'Zoe Kazan', 'Morgan Lily', 'Alex Essoe', 'Ben Winchell', 'Nick Frost', 'Mandy Moore', 'David James', 'Joan Cusack', 'James Frecheville', 'Lewis Black', 'Jason Schwartzman', \"John D'Leo\", 'Karen Gillan', 'Jonah Hill', 'Carla Gugino', 'Sullivan Stapleton', 'Karin Konoval', 'Moe Dunford', 'Ferdia Walsh-Peelo', 'Madison Wolfe', 'Travis Tope', 'Sarah Jessica Parker', 'Amy Schumer', 'Elle Fanning', 'Kurt Fuller', 'Lukas Hassel', 'Richard Armitage', 'Jon Voight', 'Dougie McConnell', 'Jason Clarke', 'Shailene Woodley', 'Karolina Gruszka', 'Lynn Collins', 'Michael Ealy', 'Saoirse Ronan', 'Oliver Cooper', 'Jamie Campbell Bower', 'Nicholas Galitzine', 'Kurt Russell', 'Joely Richardson', 'Boyd Holbrook', 'Miyavi', 'Leonard Nimoy', 'Antje Traue', 'Thomas Middleditch', 'Martin McCann', 'Kate Hudson', 'Sam Elliott', 'Jennifer Garner', 'Joan Allen', 'Jason Bateman', 'Bruce Greenwood', 'Doug Jones', 'Scott Eastwood', 'Ralph Ineson', 'Emma Roberts', 'Michael Douglas', 'Julie Andrews', 'Julianne Moore', 'Sarita Choudhury', 'Cole Konis', 'Taylor Swift', 'Judy Greer', 'Jason Statham', 'Tony Danza', 'Jennifer Saunders', 'Garrett Hedlund', 'Elizabeth Berrington', 'Selma Blair', 'Michael Chiklis', 'Tyler James Williams', 'Hunter McCracken', 'Pierre Niney', 'Eli Roth', 'Rosario Dawson', 'Rachael Harris', 'Vicky Krieps', 'John Leguizamo', 'Sophie Perry', 'Brit Marling', 'Natalie Portman', 'Kristen Stewart', 'Jorge Garcia', 'Kevin Hart', 'Gabriela Lopez', 'Sam Rockwell', 'Amanda Seyfried', 'Angelo Josue Lozano Corzo', 'Nadine Velazquez', 'Josh Brolin', 'Jordi Moll?', 'Adrianne Palicki', 'Kristin Davis', 'Bryce Dallas Howard', 'Diego Klattenhoff', 'Melanie Laurent', 'Leonardo DiCaprio', 'Elizabeth Reaser', 'Skyler Gisondo', 'Ellie Kemper', 'Rosamund Pike', 'Maggie Grace', 'Damien Marzette', 'Judy Davis', 'Melissa Benoist', 'Alexander Black', 'Famke Janssen', 'Aaron Taylor-Johnson', 'Christopher Walken', 'Bryan Cranston', 'Tim Roth', 'Vin Diesel', 'Maddie Ziegler', 'Ron Perlman', 'Logan Marshall-Green', 'Genesis Rodriguez', 'Kathy Baker', 'Richenda Carey', 'Craig Robinson', 'Alec Baldwin', 'Ernst Stotzner', 'Will Poulter', 'Arnaud Viard', 'Gregg Weiner', 'Emily Meade', 'Olivia Cooke', 'James Ransone', 'Elijah Smith', 'Mateo Arias', 'Christopher Fitzgerald', 'Emilie de Ravin', 'Liana Liberato', 'Julian Barratt', 'Joaquin Phoenix', 'Halle Berry', '50 Cent', 'Josh Hartnett', 'Joe Alwyn', 'Lorenza Izzo', 'Johnny Depp', 'Tian Jing', 'Bruno Campos', 'Sarah Gadon', 'Guy Pearce', 'Matthias Schoenaerts', 'Peter Facinelli', 'Dominic West', 'Oscar Isaac', 'John Hawkes', 'Kylie Rogers', 'Megan Park', 'Dakota Fanning', 'Derek Jeter', 'Melissa McCarthy', 'Sheila Kelley', 'Aiden Longworth', 'Selena Gomez', 'Michael Dickson', 'Annette Bening', \"De'Shawn Washington\", 'Tyler Hoechlin', 'Maggie Gyllenhaal', 'Brenton Thwaites', 'Paul Giamatti', 'CCH Pounder', 'Daniel Olbrychski', 'Ana de Armas', 'Shariff Earp', 'Andy Samberg', 'Elijah Wood', 'Quinton Aaron', 'Penelope Wilton', 'Adam Sandler', 'Jan Cornet', 'Will Arnett', 'Dennis Quaid', 'Charles S. Dutton', 'Lois van Wijk', 'Tom Mison', 'Sally Phillips', 'Jessica Lange', 'Allison Janney', 'Rainn Wilson', 'Patrick Wilson', 'Adewale Akinnuoye-Agbaje', 'Brian Geraghty', 'Shia LaBeouf', 'James Marsden', 'Ralph Fiennes', 'Trenton Rogers', 'Tom Hardy', 'Rachel Wood', 'Thomas Jane', 'Alfie Allen', 'Keir Gilchrist', 'Elizabeth Olsen', 'Rob Riggle', 'Noah Ringer', 'Alfred Molina', 'Nicole Kidman', 'Christopher Plummer', 'Aasif Mandvi', 'Juliet Rylance', 'Rupert Friend', 'Candice Bergen', 'Brittany Snow', 'Dick Van Dyke', 'Samuel L. Jackson', 'Dan Byrd', 'Sam Trammell', 'Hee-Bong Byun', 'Jeremy McWilliams', 'Gattlin Griffith', 'Wei Tang', 'Anika Noni Rose', 'Taron Egerton', 'Michael Shannon', 'Emily Browning', 'Ari Graynor', 'Armie Hammer', 'Ellen DeGeneres', 'Mary McCormack', 'Dominique Tipper', 'Tom Sizemore', 'Kathleen Quinlan', 'Edie Falco', 'Amy Poehler', 'Portia Doubleday', 'Adele Exarchopoulos', 'Carice van Houten', 'Jet Li', 'James Gandolfini', 'Isabella Rossellini', 'John C. McGinley', 'Rasmus Hardiker', 'Bill Nighy', 'Dermot Mulroney', 'Charles Dance', 'Jordana Brewster', 'Julia Ormond', 'Megan Fox', 'James McAvoy', 'Kate McKinnon', 'Freddie Highmore', 'Doona Bae', 'Katherine Heigl', 'Ronnie Gene Blevins', '?scar Jaenada', 'Jodie Foster', 'Brian Cox', 'Joey Lauren Adams', 'George MacKay', 'Brooklyn Decker', 'Dominique Swain', 'Max Burkholder', 'Gabriel Chavarria', 'Benicio Del Toro', 'Marie Gruber', 'Mathieu Amalric', 'William Fichtner', 'Giovanni Ribisi', 'Jamie Chung', 'Dana Fuchs', 'Michael Mantell', 'Woody Harrelson', 'Temuera Morrison', 'Kiersey Clemons', 'Bailey Anne Borders', 'Alex Pettyfer', 'Chris Pratt', 'Martin Freeman', 'Noah Wiseman', 'Emma Greenwell', 'Channing Tatum', 'Alexander Skarsgard', 'Dianna Agron', 'Kerry Washington', 'Michael Constantine', 'Bella Thorne', 'Caitlyn Rund', 'Jaden Smith', 'Duan Sanderson', 'Lucas Hedges', 'Peter Riegert', 'Morena Baccarin', 'Freida Pinto', 'Evan Rachel Wood', 'Lizzy Caplan', 'Barkhad Abdirahman', 'Jason Cope', 'Julia Stiles', 'Valerie Mahaffey', 'Julie Benz', 'Matthew McConaughey', 'Laura Dern', 'David Lyons', 'Carrie-Anne Moss', 'Gal Gadot', 'Laura Linney', 'Richard Jenkins', 'Alice Englert', 'Max von Sydow', 'Cynthia Nixon', 'Morgan Freeman', 'Danny Huston', 'Eddie Izzard', 'David Morse', 'Luke Bracey', 'Taika Waititi', 'Javier Bardem', 'Ji-min Han', 'John Turturro', 'Vince Vaughn', 'Teresa Palmer', 'Diane Kruger', 'Hailee Steinfeld', 'Demi Moore', 'Sunny Pawar', 'Corey Stoll', 'Toby Kebbell', 'Nicole Parker', 'Gerry Bednob', 'Elizabeth Debicki', 'Ken Watanabe', 'Mark Ruffalo', 'Joel Kinnaman', 'Oona Laurence', 'Emma Thompson', 'Will Ferrell', 'Sarah Paulson', 'Matthew Fox', 'Callan McAuliffe', 'Hugh Jackman', 'Adam Brody', 'Jack Reynor', 'Nathan Fillion', 'Brenda Blethyn', 'Billie Piper', 'Ali Larter', 'Edward Norton', 'Mike Vogel', 'Emily Blunt', 'Marion Cotillard', 'Raghuvir Joshi', 'Pablo Schreiber', 'Lia Marie Johnson', 'Diego Luna', 'Bryan Greenberg', 'Rima Te Wiata', 'Steve Lantz', 'Allison Tolman', 'Asa Butterfield', 'Jorma Taccone', 'Tom Felton', 'Aurelien Recoing', 'Scott Glenn', 'Cary Joji Fukunaga', 'Noomi Rapace', 'Joseph Gordon-Levitt', 'Wentworth Miller', 'Ellen Page', 'Christopher Lee', 'Rosie Shaw', 'Daniel Henshall', 'Garret Dillahunt', 'Cara Buono', 'Liev Schreiber', 'Eric Bana', 'Dolph Lundgren', 'Tom Cullen', 'Joel McHale', 'Jerry Ferrara', 'Lambert Wilson', 'Scott Lawrence', 'Eva Green', 'Terry Crews', 'Bill Murray', 'Dave Franco', 'Sarah Snook', 'Jared Gilman', 'Steve Martin', 'Jai Courtney', 'Robert De Niro', 'Anna Kendrick', 'Jim Carrey', 'Jemima West', 'Maggie Q', 'Ryan Lee', 'Barry Ward', 'Oona Chaplin', 'Michael Gambon', 'Mia Stallard', 'Alexis Clagett', 'Jason Isaacs', 'Walton Goggins', 'Viggo Mortensen', 'Kelly Macdonald', 'Steve Wiebe', 'Christopher McDonald', 'Chatchawai Kamonsakpitak', 'Oakes Fegley', 'Adam Rodriguez', 'Regina Hall', 'Scott Mescudi', 'Hae-il Park', 'Russell Crowe', 'Irrfan Khan', 'Ophelia Lovibond', 'Lucy Walters', 'Larry the Cable Guy', 'Thomas M. Wright', 'Raffey Cassidy', 'Philip Seymour Hoffman', 'Samantha Isler', 'Phylicia Rashad', 'Aidan Quinn', 'Donald Sutherland', 'Cheryl Hines', 'Cam Gigandet', 'Andrew Scott', 'Kiernan Shipka', 'Nat Wolff', 'Amanda Peet', 'Daniel Bruhl', 'Ivo Nandi', 'Jamal Woolard', 'Danny Sapani', 'Levi Miller', 'Addison Timlin', \"Dylan O'Brien\", 'Noel Fisher', 'David Denman', 'Bill Engvall', 'Nathalie Baye', 'Gary Cole', 'Mauricio Lopez', 'Gemma Jones', 'Kyle Chandler', 'Logan Miller', 'Alain Moussi', 'Rizwan Manji', 'Vanessa Ferlito', 'Audrey Tautou', 'Lucas Black', 'Ryan Potter', 'Marton Csokas', 'Rachel House', 'Mira Sorvino', 'Karl Glusman', \"Jason O'Mara\", 'Nathan Phillips', 'Katy Barker', 'Adria Arjona', 'Mahershala Ali', 'Ed Skrein', 'Jane Fonda', 'John Travolta', 'Zachary Quinto', 'Dustin Hoffman', 'Djimon Hounsou', 'Lucy Liu', 'Tao Okamoto', 'Arnold Schwarzenegger', 'Kevin Connolly', 'Susan Sarandon', 'Gemma Arterton', 'Jake Abel', 'Taylor Lautner', 'Dax Flame', 'Abbie Cornish', 'Don Thompson', \"Ed O'Neill\", 'Kieran Culkin', 'Haley Lu Richardson', 'Paul Bettany', 'Anthony LaPaglia', 'Rabah Nait Oufella', 'Rachel McAdams', 'Xavier Samuel', 'Jake Johnson', 'Lauren Graham', 'Travis Fimmel', 'Steve Carell', 'Jim Caviezel', 'Jude Law', 'Daniel Gimenez Cacho', 'Ving Rhames', 'Seth MacFarlane', 'Natascha McElhone', 'Jennifer Ehle', 'Clive Owen', 'Jon Hamm', 'Jerry Stiller', 'Emma Watson', 'Vincent Ebrahim', 'Billy Bob Thornton', 'Moises Acevedo', 'Gil Birmingham', 'Sasha Lane', 'Cara Delevingne', 'John Corbett', 'Harvey Keitel', 'Theo James', 'Colin Firth', 'Jackson Rathbone', 'Jamie Dornan', 'Milla Jovovich', 'Shiloh Fernandez', 'Patricia Clarkson', 'Julia Roberts', 'Jane Lynch', 'John Cullum', 'Idris Elba', \"Jack O'Connell\", 'Denzel Washington', 'Lars Eidinger', 'Tania Raymonde', 'Charlie Tahan', 'Jonathan Daniel Brown', 'Anna Friel', 'Tim McGraw', 'Juno Temple', 'Tobias Menzies', 'Zachary Bennett', 'Ben Walker', 'Laura Ramsey', 'Alice Braga', 'Teri Hatcher', 'Donna Murphy', 'Colin Farrell', 'Lisa Kudrow', 'Iris Apatow', 'Duncan Joiner', 'Harry Connick Jr.', 'Henry Thomas', \"Mo'Nique\", 'Michael Pena', 'Allen Leech', 'Kate Upton', 'Kevin Kline', 'Max Minghella', 'Felicity Jones', 'Damon Wayans Jr.', 'Stephen Moyer', 'Gabriel Bateman', 'Milo Ventimiglia', 'Christopher Evan Welch', 'Christian Distefano', 'Idina Menzel', 'Lily Collins', 'Orlando Bloom', 'Jack McBrayer', 'Vanessa Hudgens', 'Austin Stowell', 'Bridgette Barrett', 'Zoe Kravitz', 'Kodi Smit-McPhee', 'Keanu Reeves', 'Jason Flemyng', 'Benedict Cumberbatch', 'David Wenham', 'Saurabh Shukla', 'Nia Vardalos', 'Terrence Howard', 'Emilie Leclerc', 'Ray Stevenson', 'Ben Kingsley', 'Kevin Nealon', 'David Strathairn', 'Essie Davis', 'Antonio Banderas', 'Sarah Roemer', 'Andy Serkis', 'Connie Nielsen', 'Jackie Earle Haley', 'Zachary Gordon', 'Charlie Hunnam', 'Jonathan Roumie', 'Stephen Dorff', 'Lucy Boynton', 'Sandra Kinder', 'Brad Pitt', 'Dean Mumford', 'Logan Huffman', 'Albert Finney', 'Renee Zellweger', 'India Eisley', 'Chris Isaak', 'Tom Prior', 'Shea Adams', 'Ashley Benson', 'Steven Yeun', 'Naomie Harris', 'Sienna Miller', 'Rebecca Ferguson', 'Angourie Rice', 'Samantha Morton', 'Logan Paul', 'Steve Buscemi', 'Alison Sudol', 'Michael Kelly', 'Tom Hanks', 'Astrid Berges-Frisbey', 'Lily-Rose Depp', 'Zac Efron', 'Jovan Adepo', 'Timothy Olyphant', 'Armin Mueller-Stahl', 'Malcolm Sinclair', 'Jeff Kahn', 'Tom Costello', 'Blake Jenner', 'Luke Evans', 'Rene Russo', 'Riz Ahmed', 'Rip Torn', 'Justin Long', 'Toby Jones', 'Tyrese Gibson', 'Kevin Dillon', 'Ewen Leslie', 'RJ Cyler', 'Christian Stevens', 'Lou Taylor Pucci', 'Cedric the Entertainer', \"Jerry O'Connell\", 'Alan Tudyk', 'Nancy Kwan', 'Chiwetel Ejiofor', 'Andie MacDowell', 'Teyonah Parris', 'Viola Davis', 'Joshua Leonard', 'Rachael Blake', 'AnnaSophia Robb', 'Jessica Alba', 'Cobie Smulders', 'T.I.', 'Linh Dan Pham', 'Tim Blake Nelson', 'Daniella Kertesz', 'Dev Patel', 'Jeremy Renner', 'Joey Morgan', 'Vinnie Jones', 'Dax Shepard', 'Henry Cavill', 'Joel David Moore', 'John Gallagher Jr.', 'Ron Livingston', 'Moises Arias', 'Melissa Leo', 'Geoffrey Arend', 'Daniel Eric Gold', 'Kerry Bishe', 'Cush Jumbo', 'Michael Keaton', 'Naomi Watts', 'Kaitlin Olson', 'Sarah Dumont', 'Kathy Bates', 'Greta Gerwig', 'Daniel Craig', 'Linda Gegusch', 'Sam Shepard', 'Paul Birchard', 'Moon Bloodgood', 'James Badge Dale', 'Edward Asner', 'Jon Bernthal', 'Jonathan Groff', 'Brendan Fraser', 'Lauren Holly', 'Michelle Yeoh', 'David Oyelowo', 'Jim Sturgess', 'Akiva Schaffer', 'Thomas Haden Church', 'Ryan Guzman', 'Karl Urban', 'Pierce Brosnan', 'Lior Ashkenazi', 'Oliver Platt', 'Seth Rogen', 'Andreas Wisniewski', 'Octavia Spencer', 'Alan Alda', 'Crispin Glover', 'AJ Michalka', 'Eloise Mumford', 'Emayatzy Corinealdi', 'Emily Mortimer', 'Sonoya Mizuno', 'Min-sik Choi', 'Nicola Peltz', 'Adil Hussain', 'Jennifer Aniston', 'Danny Glover', 'Mackenzie Foy', 'Christina Hendricks', 'Mae Whitman', 'Joseph Fiennes', 'Chloe Sevigny', 'Mary Elizabeth Winstead', 'Justice Smith', 'James Floyd', \"Fionn O'Shea\", 'Jordan Carlos', 'Benedict Wong', 'Daisy Ridley', 'Sylvester Stallone', 'Wes Bentley', \"Frances O'Connor\", 'Imogen Poots', 'Lena Headey', 'Lucy Fry', 'Tracy Letts', 'Lydia Wilson', 'Mia Wasikowska', 'Sarah Silverman', 'Alia Shawkat', 'Mindy Kaling', 'Ethan Hawke', 'Carly Rae Jepsen', 'Alan Rickman', 'Jaime Winstone', 'Katie Crown', 'Tangie Ambrose', 'Giancarlo Esposito', 'Toni Collette', 'Keith Carradine', 'Matt Lanter', 'Sean Patrick Thomas', 'Josh Gad', 'Jeff Bridges', 'Dave Bautista', 'Kari Matchett', 'Jessica Barden', 'Domhnall Gleeson', 'Damaine Radcliff', 'Sigrid Bouaziz', 'Nicole Beharie', 'Bree Turner', 'Michael B. Jordan', 'Anthony Edwards', 'Jesse Eisenberg', 'Adelaide Kane', 'Sam Claflin', 'Lili Taylor', 'Chris Pine', 'Josh Wiggins', 'Alexander Ludwig', 'Jean Reno', 'Thandie Newton', 'Diane Lane', 'Mohamed Akhzam', 'Kang-ho Song', 'Josef Altin', 'Soo-an Kim', 'Michael Stuhlbarg', 'Thomas Mann', 'Emma Stone', 'Martin Henderson', 'Johnny Simmons', 'Zoe Saldana', 'Ethan Suplee', 'Shawn Roberts', 'Vernetta Lopez', 'Owen Wilson', 'Jeff Goldblum', 'Gwyneth Paltrow', 'Angelina Jolie', 'Ward Horton', 'Blake Lively', 'Timothy Spall', 'Juan Saavedra', 'Ginnifer Goodwin', 'Jessica Biel', 'Olivia Colman', 'Luke Wilson', 'Russell Brand', 'Bonnie Hunt', 'Ben Affleck', 'Rory Cochrane', 'Eva Mendes', 'Gabriella Wilde', 'Ken Stott', 'Sharlto Copley', 'Joe Manganiello', 'Robin Wright', 'Kate Beckinsale', 'Kate Siegel', 'Brian Dennehy', 'Matt Damon', 'Andrew Simpson', 'Dakota Blue Richards', 'Maria Dizzia', 'Taraji P. Henson', 'Jasper Newell', 'Vera Farmiga', 'Lainie Kazan', 'John Hurt', 'Jason Segel', 'Penn Badgley', 'Thomas Brodie-Sangster', 'Ella Rumpf', 'Rihanna', 'Lake Bell', 'Hayden Christensen', 'Craig T. Nelson', 'Andrew Garfield', 'Billy Crudup', 'Kai Ryssdal', 'Richard Madden', 'Mel Raido', 'Eddie Redmayne', 'Catherine Keener', 'Jalil Lespert', 'Patrick Dempsey', 'Sienna Guillory', 'Demian Bichir', 'Paul Reiser', 'Gabourey Sidibe', 'Salma Hayek', 'Steven Mackintosh', 'Dong-seok Ma', 'Ryan Gosling', 'Anthony Hopkins', 'Jennifer Morrison', 'Jack Davenport', 'America Ferrera', 'Riley Keough', 'Maika Monroe', 'Robbie Amell', 'Tessa Thompson', 'Colin Hanks', 'Catalina Sandino Moreno', 'Judah Lewis', 'Kim Coates', 'Elizabeth Banks', 'F. Murray Abraham', 'Charlie Cox', 'Michael Vartan', 'Isabelle Fuhrman', 'Maude Apatow', 'Annabelle Attanasio', 'Kathryn Hahn', 'Joe Cobden', 'Chris Hemsworth', 'Leslie Bibb', 'Lily Rabe', 'Brie Larson', 'Daniel Zovatto', 'David Spade', 'Sarah Polley', 'Aaron Yoo', 'Ben Foster', 'Fran Kranz', 'Kate Winslet', 'John C. Reilly', 'Brandon T. Jackson', 'Jordan Nagai', 'Alice Eve', 'Randall Park', 'Willem Dafoe', 'Nick Robinson', 'Tobey Maguire', 'Guillaume Baillargeon', 'Arturo Castro', 'Sophie Okonedo', 'Dane Cook', 'Jeremy Irvine', 'Justin Bartha', 'Dane DeHaan', 'John Cusack', 'Madeleine West', 'Josh Stewart', 'Brian Howe', 'Rooney Mara', 'Ted Levine', 'Billy Connolly', 'Forest Whitaker', 'Lucas Till', 'Daniel Radcliffe', 'Jack Madigan', 'Keira Knightley', 'Byung-hun Lee', 'J.K. Simmons', 'Andrea Whitburn', 'Jared Leto', 'Kevin Bacon', 'Rodrigo Santoro', 'Albert Brooks', 'Michael Pitt', 'Ross Kimball', 'Katie Holmes', 'Zach Grenier', 'Max Greenfield', 'Lewis MacDougall', 'Richard Dreyfuss', 'Amy Adams', 'Shameik Moore', 'Kevin James', 'Jeffrey Dean Morgan', 'Ike Barinholtz', 'Ian McShane', 'Theo Rossi', 'Miles Heizer', 'Karen Allen', 'Sean Bott', 'Tilda Swinton', 'Cameron Diaz', 'Liam Hemsworth', 'Paul Walker', 'Bill Pullman', 'Sally Field', 'Gary Oldman', 'Jenny Slate', 'Brooke Shields', 'Gabriel Luna', 'Stephen Henderson', 'Nicholas Braun', 'Greg Kinnear', 'Ellen Burstyn', 'Common', 'Paul Rudd', 'Odeya Rush', 'Mickey Rourke', 'Laurent Lucas', 'Diego Boneta', 'Hayley Atwell', 'Steele Stebbins', 'John Carroll Lynch', 'Matthew Macfadyen', 'Billy Crystal', 'Adrian Grenier', 'Klara Kristin', 'Justin Theroux', 'Christian Cooke', 'Olivia Williams', 'Robert Sheehan', 'Jack Nicholson', 'Don Cheadle', 'Julianne Hough', 'Olivia Luccardi', 'Brett Cullen', 'Bokeem Woodbine', 'Terence Stamp', 'Max Martini', 'John Malkovich', 'Charlotte Gainsbourg', 'Peter Sarsgaard', 'Brittany Murphy', 'Romain Duris', 'Kirsten Dunst', 'Danila Kozlovsky', 'Kate Mara', 'Michael Rooker', 'Brian Marc', 'Leslie Jones', 'Sophie Nelisse', 'Sean Bridgers', 'Nellie', \"Beverly D'Angelo\", 'Matthew Morrison', 'Lea Seydoux', 'Josh Peck', 'Til Schweiger', 'Fred Dalton Thompson', 'Annabelle Wallis', 'Graham McTavish', 'Michael Trucco', 'Ruby Barnhill', 'Su Elliot', 'William Hurt', 'Colton Haynes', 'Matthew Zuk', 'Michiel Huisman', 'Orto Ignatiussen', 'Lorraine Nicholson', 'Matthew Perry', 'Peter McRobbie', 'Kit Harington', 'Chris Cooper', 'Will Dalton', 'Martin Stringer', 'Jessica Barth', 'Lin Shaye', 'Chloe Grace Moretz', 'Jacob Tremblay', 'Momo Dione', 'Carey Mulligan', 'Kristen Connolly', 'Hermione Corfield', 'Emory Cohen', 'John Alexander', 'Jim Parsons', 'John Ratzenberger', 'Michelle Pfeiffer', 'Ewa Froling', 'John Krasinski', 'Morgan Saylor', 'Nick Nolte', 'Dylan Minnette', 'Luing Andrews', 'Miles Teller', 'Stephen Merchant', 'Kim Cattrall', 'Brighton Sharbino', 'Chris Evans', 'Keith David', 'Josh Lucas', 'Kristin Chenoweth', 'Kate Bosworth', 'Janet McTeer', 'Laurie Holden', 'Katey Sagal', 'Mary-Louise Parker', 'Marisa Paredes', 'Michael McDonald', 'Elisabeth Shue', 'Scarlett Johansson', 'Richard Gere', 'Adam Devine', 'Gabriel Byrne', 'Craig Ferguson', 'Aubrey Plaza', 'Jessica Sula', 'Dan Fogler', 'Storm Acheche Sahlstrom', 'Tadanobu Asano', 'Zoey Deutch', 'Vanessa Lachey', 'Frank Langella', 'John Hodgman', 'Duncan Duff', 'Bradley Cooper', 'Emile Hirsch', 'Rupert Grint', 'Oprah Winfrey', 'Matt Long', 'Jon Daly', 'David Thewlis', 'Simon Pegg', 'Eric Stonestreet', 'Eric Winter', 'Andy Lau', 'Tammy Blanchard', 'Ariel Levy', 'Lena Endre', 'Derek Luke', 'Mia Goth', 'Emmanuelle Chriqui', 'Anna Faris', 'Kristin Scott Thomas', 'Tony Shalhoub', 'Tom Wilkinson', 'Judi Dench', 'Erin Moriarty', 'Laurence Fishburne', 'Leehom Wang', 'Ed Helms', 'Patrick Stewart', 'Yoo Gong', 'Rebecca Hall', 'Kat Dennings', 'Olivia DeJonge', 'Jim Broadbent', 'Ciaran Hinds', 'Christoph Waltz', 'Sylvia Hoeks', 'Kelsey Grammer', 'Dwayne Johnson', 'Hugh Grant', 'Tina Fey', 'Robert Capron', 'Alfre Woodard'}\n"
     ]
    }
   ],
   "metadata": {}
  }
 ],
 "metadata": {
  "kernelspec": {
   "name": "python3",
   "display_name": "Python 3.9.7 64-bit (windows store)"
  },
  "language_info": {
   "codemirror_mode": {
    "name": "ipython",
    "version": 3
   },
   "file_extension": ".py",
   "mimetype": "text/x-python",
   "name": "python",
   "nbconvert_exporter": "python",
   "pygments_lexer": "ipython3",
   "version": "3.9.7"
  },
  "interpreter": {
   "hash": "1f8d80d535cfd832283e4e3a1095d2ce45fe6627336684f2622a1965babb2f1c"
  }
 },
 "nbformat": 4,
 "nbformat_minor": 5
}