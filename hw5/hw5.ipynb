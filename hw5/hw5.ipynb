{
 "cells": [
  {
   "cell_type": "code",
   "execution_count": 737,
   "metadata": {},
   "outputs": [],
   "source": [
    "import numpy as np\n",
    "import pandas as pd"
   ]
  },
  {
   "cell_type": "code",
   "execution_count": 738,
   "metadata": {},
   "outputs": [],
   "source": [
    "def transform_m(t, y):\n",
    "\n",
    "    t.loc[t['Gender'] == 'Male', 'Gender'] = 0\n",
    "    t.loc[t['Gender'] == 'Female', 'Gender'] = 1\n",
    "\n",
    "    t.loc[t['Geography'] == 'Germany', 'Geography'] = 0\n",
    "    t.loc[t['Geography'] == 'Spain', 'Geography'] = 1\n",
    "    t.loc[t['Geography'] == 'France', 'Geography'] = 2\n",
    "\n",
    "    t['CreditScore'] = (t['CreditScore'] - t['CreditScore'].min()) / \\\n",
    "        (t['CreditScore'].max() - t['CreditScore'].min())\n",
    "    t['Balance'] = (t['Balance'] - t['Balance'].min()) / \\\n",
    "        (t['Balance'].max() - t['Balance'].min())\n",
    "    t['EstimatedSalary'] = (t['EstimatedSalary'] - t['EstimatedSalary'].min()) / \\\n",
    "        (t['EstimatedSalary'].max() - t['EstimatedSalary'].min())\n",
    "    t['Age'] //= y\n",
    "\n",
    "    return t"
   ]
  },
  {
   "cell_type": "code",
   "execution_count": 739,
   "metadata": {},
   "outputs": [],
   "source": [
    "def transform_z(t, y):\n",
    "\n",
    "    t.loc[t['Gender'] == 'Male', 'Gender'] = 0\n",
    "    t.loc[t['Gender'] == 'Female', 'Gender'] = 1\n",
    "\n",
    "    t.loc[t['Geography'] == 'Germany', 'Geography'] = 0\n",
    "    t.loc[t['Geography'] == 'Spain', 'Geography'] = 1\n",
    "    t.loc[t['Geography'] == 'France', 'Geography'] = 2\n",
    "\n",
    "    t['CreditScore'] = (t['CreditScore'] - t['CreditScore'].mean()) / \\\n",
    "        t['CreditScore'].std()\n",
    "    t['Balance'] = (t['Balance'] - t['Balance'].mean()) / \\\n",
    "        t['Balance'].std()\n",
    "    t['EstimatedSalary'] = (t['EstimatedSalary'] - t['EstimatedSalary'].mean()) / \\\n",
    "        t['EstimatedSalary'].std()\n",
    "    t['Age'] //= y\n",
    "\n",
    "    return t"
   ]
  },
  {
   "cell_type": "code",
   "execution_count": 741,
   "metadata": {},
   "outputs": [],
   "source": [
    "# Forest\n",
    "train = pd.read_csv('train.csv')\n",
    "test = pd.read_csv('test.csv')\n",
    "train_m5 = transform_z(train, 5)\n",
    "train_1 = train_m5.iloc[:, 4:-1]\n",
    "train_2 = train_m5.iloc[:, -1]\n",
    "data_5 = train_1.values\n",
    "labels_5 = train_2.values\n",
    "\n",
    "test_m = transform_z(test, 5)\n",
    "test = test_m.iloc[:, 4:]\n",
    "test_a_5 = test.values"
   ]
  },
  {
   "cell_type": "code",
   "execution_count": 743,
   "metadata": {},
   "outputs": [],
   "source": [
    "from sklearn.ensemble import RandomForestClassifier\n",
    "forest = RandomForestClassifier(n_estimators=200, oob_score=True,\n",
    "                                n_jobs=-1, random_state=0, min_samples_leaf=10)\n",
    "forest.fit(data_5, labels_5)\n",
    "ans_for = forest.predict(test_a_5)"
   ]
  },
  {
   "cell_type": "code",
   "execution_count": 742,
   "metadata": {},
   "outputs": [],
   "source": [
    "# MLP bayes\n",
    "# train = pd.read_csv('train.csv')\n",
    "# test = pd.read_csv('test.csv')\n",
    "# train_m4 = transform_z(train, 4)\n",
    "# train_1 = train_m4.iloc[:, 4:-1]\n",
    "# train_2 = train_m4.iloc[:, -1]\n",
    "# data_4 = train_1.values\n",
    "# labels_4 = train_2.values\n",
    "\n",
    "# test_m = transform_z(test, 4)\n",
    "# test = test_m.iloc[:, 4:]\n",
    "# test_a_4 = test.values"
   ]
  },
  {
   "cell_type": "code",
   "execution_count": 745,
   "metadata": {},
   "outputs": [],
   "source": [
    "# from sklearn.neural_network import MLPClassifier\n",
    "# mlp = MLPClassifier(hidden_layer_sizes=(100, 100), max_iter=1000, alpha=1e-4, solver='sgd', verbose=10,\n",
    "#                     tol=1e-4, random_state=1, learning_rate_init=0.2, momentum=0.35, learning_rate='adaptive')\n",
    "# mlp.fit(data_4, labels_4)\n",
    "# ans_mlp = mlp.predict(test_a_4)"
   ]
  },
  {
   "cell_type": "code",
   "execution_count": 740,
   "metadata": {},
   "outputs": [],
   "source": [
    "# KNN\n",
    "# train = pd.read_csv('train.csv')\n",
    "# test = pd.read_csv('test.csv')\n",
    "# train_m = transform_m(train, 4)\n",
    "# train_1 = train_m.iloc[:, 4:-1]\n",
    "# train_2 = train_m.iloc[:, -1]\n",
    "# data = train_1.values\n",
    "# labels = train_2.values\n",
    "\n",
    "# test_m = transform_m(test, 4)\n",
    "# test = test_m.iloc[:, 4:]\n",
    "# test_a = test.values"
   ]
  },
  {
   "cell_type": "code",
   "execution_count": 744,
   "metadata": {},
   "outputs": [],
   "source": [
    "# from sklearn.neighbors import KNeighborsClassifier\n",
    "# from sklearn.preprocessing import StandardScaler\n",
    "# scaler = StandardScaler()\n",
    "# scaler.fit(data)\n",
    "# data_scaled = scaler.transform(data)\n",
    "# test_a_scaled = scaler.transform(test_a)\n",
    "\n",
    "# knn = KNeighborsClassifier(n_neighbors=9, p=1, weights='distance')\n",
    "# knn.fit(data_scaled, labels)\n",
    "# ans_knn = knn.predict(test_a_scaled)"
   ]
  },
  {
   "cell_type": "code",
   "execution_count": 746,
   "metadata": {},
   "outputs": [],
   "source": [
    "import csv\n",
    "r = csv.reader(open('upload.csv'))\n",
    "lines = list(r)"
   ]
  },
  {
   "cell_type": "code",
   "execution_count": 747,
   "metadata": {},
   "outputs": [],
   "source": [
    "for i in range(1, len(lines)):\n",
    "    lines[i][2] = ans_for[i-1]\n",
    "writer = csv.writer(open('upload.csv', 'w', newline=''))\n",
    "writer.writerows(lines)"
   ]
  }
 ],
 "metadata": {
  "interpreter": {
   "hash": "1f8d80d535cfd832283e4e3a1095d2ce45fe6627336684f2622a1965babb2f1c"
  },
  "kernelspec": {
   "display_name": "Python 3.9.9 64-bit (windows store)",
   "language": "python",
   "name": "python3"
  },
  "language_info": {
   "codemirror_mode": {
    "name": "ipython",
    "version": 3
   },
   "file_extension": ".py",
   "mimetype": "text/x-python",
   "name": "python",
   "nbconvert_exporter": "python",
   "pygments_lexer": "ipython3",
   "version": "3.9.9"
  },
  "orig_nbformat": 4
 },
 "nbformat": 4,
 "nbformat_minor": 2
}
